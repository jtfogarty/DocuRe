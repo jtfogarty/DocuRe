{
 "cells": [
  {
   "cell_type": "code",
   "execution_count": 128,
   "metadata": {},
   "outputs": [],
   "source": [
    "import bs4\n",
    "import json\n",
    "import requests"
   ]
  },
  {
   "cell_type": "code",
   "execution_count": 129,
   "metadata": {},
   "outputs": [],
   "source": [
    "import re\n",
    "textEntry = ''\n",
    "textType = ''\n",
    "ps = {}\n",
    "def createJSON (text, version, x_id, book):\n",
    "    p = re.compile('\\d+:\\d+')\n",
    "    m  = p.search(text)\n",
    "    #book = row.Verse[:m.start()-1]\n",
    "    if re.match('\\d+', text[0]) is None:\n",
    "        textType = 'section_heading'\n",
    "        textEntry = text.replace(\"\\r\",\"\")\n",
    "    else:\n",
    "        cv = str(m.group()).split(':')\n",
    "        ps['chapter_no'] = str(cv[0])\n",
    "        ps['verse_no'] = str(cv[1])\n",
    "        textType = 'verse'\n",
    "        newText = text[len(m.group())+1:]\n",
    "        textEntry = newText.replace(\"\\r\",\"\")\n",
    "    ps['type'] = textType\n",
    "    ps['line_id'] = str(x_id)\n",
    "    ps['book'] = book\n",
    "    ps['text_entry'] = textEntry.replace(\"\\n\",\" \")\n",
    "    return ps"
   ]
  },
  {
   "cell_type": "code",
   "execution_count": 130,
   "metadata": {},
   "outputs": [],
   "source": [
    "def writeFile (data, index, book):\n",
    "    with open('/Users/jeff/jupyter/' + index + '_' + book + '-6.0.json', 'a') as outfile:\n",
    "        outfile.write(data)"
   ]
  },
  {
   "cell_type": "code",
   "execution_count": 131,
   "metadata": {},
   "outputs": [],
   "source": [
    "page = requests.get('http://www.seraphim.my/bible/jb/JB-NT01%20MATTHEW.htm')\n",
    "#page = requests.get('http://www.seraphim.my/bible/jb/jb-nt%20content.htm')\n",
    "soup = bs4.BeautifulSoup(page.text,'html')"
   ]
  },
  {
   "cell_type": "code",
   "execution_count": 132,
   "metadata": {},
   "outputs": [],
   "source": [
    "import json\n",
    "x_id = 0\n",
    "pTag = soup.find_all('p')\n",
    "for each in pTag:\n",
    "    book = 'Matthew'\n",
    "    version = \"Jerusalem Bible\"\n",
    "    index = 'jerusalem_bible'\n",
    "    index_str = '{\"index\":{\"_index\":\"' + index + '\",\"_id\":' + str(x_id) + '}}'\n",
    "    src = each.text.replace('/\\u00a0', '');\n",
    "    ps = createJSON(src,version,x_id, book)\n",
    "    writeFile(index_str + '\\n' + str(json.dumps(ps)) + '\\n',index, book)\n",
    "    x_id = x_id + 1"
   ]
  }
 ],
 "metadata": {
  "kernelspec": {
   "display_name": "Python 2",
   "language": "python",
   "name": "python2"
  },
  "language_info": {
   "codemirror_mode": {
    "name": "ipython",
    "version": 2
   },
   "file_extension": ".py",
   "mimetype": "text/x-python",
   "name": "python",
   "nbconvert_exporter": "python",
   "pygments_lexer": "ipython2",
   "version": "2.7.13"
  }
 },
 "nbformat": 4,
 "nbformat_minor": 2
}
