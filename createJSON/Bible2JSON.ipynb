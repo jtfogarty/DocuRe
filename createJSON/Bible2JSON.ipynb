{
 "cells": [
  {
   "cell_type": "code",
   "execution_count": null,
   "metadata": {},
   "outputs": [],
   "source": [
    "import requests\n",
    "indexes = requests.get('http://localhost:9200/_cat/indices',auth=('elastic', 'changeme'))\n",
    "print(indexes.text)"
   ]
  },
  {
   "cell_type": "code",
   "execution_count": 133,
   "metadata": {},
   "outputs": [],
   "source": [
    "import bs4\n",
    "import json\n",
    "import requests\n",
    "from elasticsearch import Elasticsearch\n",
    "from elasticsearch_dsl import Search, Q\n",
    "es = Elasticsearch([{'host': 'localhost', 'port': 9200}],http_auth=('elastic', 'changeme'),)"
   ]
  },
  {
   "cell_type": "code",
   "execution_count": 134,
   "metadata": {},
   "outputs": [],
   "source": [
    "#PUT /bible\n",
    "index = '{ \\\n",
    "    \"mappings\": { \\\n",
    "        \"verse\": { \\\n",
    "            \"properties\": { \\\n",
    "                \"epochtime_loaded\": { \"type\": \"date\" }, \\\n",
    "                \"version\": { \\\n",
    "                    \"type\": \"keyword\", \\\n",
    "                    \"index\": false \\\n",
    "                }, \\\n",
    "                \"book\": { \\\n",
    "                    \"type\": \"keyword\", \\\n",
    "                    \"index\": false \\\n",
    "                }, \\\n",
    "                \"chapter_no\": {\"type\": \"integer\"}, \\\n",
    "                \"verse_no\": {\"type\": \"integer\"}, \\\n",
    "                \"verse\" : {\"type\": \"text\", \\\n",
    "                  \"index\": true \\\n",
    "                }, \\\n",
    "                \"es_id\" : {\"type\": \"text\",\"index\": false} \\\n",
    "            } \\\n",
    "        } \\\n",
    "    } \\\n",
    "}'"
   ]
  },
  {
   "cell_type": "code",
   "execution_count": null,
   "metadata": {},
   "outputs": [],
   "source": [
    "json_data = {\n",
    "    \"query\" :{\n",
    "        \"match_all\" : {}\n",
    "    }\n",
    "}\n",
    "\n",
    "res = es.search(index=\".watches\", body=json_data)\n",
    "print(json.dumps(res[\"hits\"], indent=2))"
   ]
  },
  {
   "cell_type": "code",
   "execution_count": 4,
   "metadata": {
    "collapsed": true
   },
   "outputs": [],
   "source": [
    "import pandas as pd"
   ]
  },
  {
   "cell_type": "code",
   "execution_count": 5,
   "metadata": {},
   "outputs": [],
   "source": [
    "df = pd.read_csv(\"/Users/jeff/Downloads/bibles.txt\", sep='\\t', header=0 )"
   ]
  },
  {
   "cell_type": "code",
   "execution_count": null,
   "metadata": {},
   "outputs": [],
   "source": [
    "from IPython.display import display, HTML\n",
    "\n",
    "# Assuming that dataframes df1 and df2 are already defined:\n",
    "#print \"Dataframe 1:\"\n",
    "#bcv = df.Verse.str.split(' ')\n",
    "#print bcv[0][1]\n",
    "#cv = str(bcv[0][1]).split(':')\n",
    "#print cv\n",
    "#display(df.Verse.str.split(' '))\n",
    "print \"Dataframe 2:\"\n",
    "HTML(df.to_html(max_rows=10))"
   ]
  },
  {
   "cell_type": "code",
   "execution_count": 11,
   "metadata": {},
   "outputs": [],
   "source": [
    "import time\n",
    "import re\n",
    "\n",
    "def createNewJSON (row, version, x_id):\n",
    "    p = re.compile('\\d+:\\d+')\n",
    "    m  = p.search(row.Verse)\n",
    "    book = row.Verse[:m.start()-1]\n",
    "    cv = str(m.group()).split(':')\n",
    "    ps = {}\n",
    "    ps['type'] = 'verse'\n",
    "    ps['line_id'] = str(x_id)\n",
    "    ps['book'] = book\n",
    "    ps['chapter_no'] = str(cv[0])\n",
    "    ps['verse_no'] = str(cv[1])\n",
    "    ps['text_entry'] = row[version]\n",
    "    #ps['es_id'] = bv['code'] + '_' + str(row.Verse).replace(\" \", \"_\")\n",
    "    #ps['epochtime_loaded'] = time()\n",
    "    return ps"
   ]
  },
  {
   "cell_type": "code",
   "execution_count": 31,
   "metadata": {
    "collapsed": true
   },
   "outputs": [],
   "source": [
    "def writeFile (data):\n",
    "    with open('/Users/jeff/jupyter/' + index + '-6.0.json', 'a') as outfile:\n",
    "        outfile.write(data)"
   ]
  },
  {
   "cell_type": "code",
   "execution_count": 32,
   "metadata": {},
   "outputs": [],
   "source": [
    "import json\n",
    "x_id = 0\n",
    "#print index_str\n",
    "for index, row in df.iterrows():\n",
    "    version = \"American King James Version\"\n",
    "    index = 'american_king_james'\n",
    "    index_str = '{\"index\":{\"_index\":\"' + index + '\",\"_id\":' + str(x_id) + '}}'\n",
    "    ps = createNewJSON(row,version,x_id)\n",
    "    writeFile(index_str + '\\n' + str(json.dumps(ps)) + '\\n',index)\n",
    "    x_id = x_id + 1"
   ]
  },
  {
   "cell_type": "code",
   "execution_count": 34,
   "metadata": {},
   "outputs": [],
   "source": [
    "versions = [['American King James Version', 'american_king_james'],['American Standard','american_standard'], \"Young's Literal Translation\"]"
   ]
  },
  {
   "cell_type": "code",
   "execution_count": 38,
   "metadata": {},
   "outputs": [
    {
     "name": "stdout",
     "output_type": "stream",
     "text": [
      "American King James Version\n"
     ]
    }
   ],
   "source": [
    "print versions[0]"
   ]
  },
  {
   "cell_type": "code",
   "execution_count": null,
   "metadata": {},
   "outputs": [],
   "source": []
  }
 ],
 "metadata": {
  "kernelspec": {
   "display_name": "Python 2",
   "language": "python",
   "name": "python2"
  },
  "language_info": {
   "codemirror_mode": {
    "name": "ipython",
    "version": 2
   },
   "file_extension": ".py",
   "mimetype": "text/x-python",
   "name": "python",
   "nbconvert_exporter": "python",
   "pygments_lexer": "ipython2",
   "version": "2.7.13"
  }
 },
 "nbformat": 4,
 "nbformat_minor": 2
}
